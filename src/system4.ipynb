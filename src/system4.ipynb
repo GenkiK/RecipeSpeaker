{
 "cells": [
  {
   "cell_type": "markdown",
   "metadata": {},
   "source": [
    "# システム統合４（有限オートマトン＋機械学習言語理解）\n",
    "それでは、これまでに実装してきたモジュールを統合して音声対話システムを作成してみましょう。\n",
    "\n",
    "- 仕様\n",
    "    - 音声認識：Google（ストリーミング、オリジナルVAD）\n",
    "    - 音声合成：Google\n",
    "    - 言語理解：機械学習（天気案内のスロット値推定）\n",
    "    - 対話管理：有限オートマトン"
   ]
  },
  {
   "cell_type": "code",
   "execution_count": 2,
   "metadata": {},
   "outputs": [
    {
     "name": "stderr",
     "output_type": "stream",
     "text": [
      "C:\\Users\\inoue\\anaconda3\\envs\\ai-kouza\\lib\\site-packages\\gensim\\similarities\\__init__.py:15: UserWarning: The gensim.similarities.levenshtein submodule is disabled, because the optional Levenshtein package <https://pypi.org/project/python-Levenshtein/> is unavailable. Install Levenhstein (e.g. `pip install python-Levenshtein`) to suppress this warning.\n",
      "  warnings.warn(msg)\n"
     ]
    }
   ],
   "source": [
    "# 必要なラブラリを読み込む\n",
    "from __future__ import division\n",
    "\n",
    "import re\n",
    "import sys, os\n",
    "\n",
    "import numpy as np\n",
    "import math\n",
    "import struct\n",
    "\n",
    "import pyaudio\n",
    "from six.moves import queue\n",
    "\n",
    "from pydub import AudioSegment\n",
    "from pydub.playback import play\n",
    "\n",
    "from google.cloud import speech\n",
    "\n",
    "# 実装したライブラリを読み込む\n",
    "from asr_google_streaming_vad import GoogleStreamingASR, MicrophoneStream\n",
    "from tts_google import GoogleTextToSpeech\n",
    "from dm_fst_weather import DmFst\n",
    "from slu_ml import SluML"
   ]
  },
  {
   "cell_type": "code",
   "execution_count": 3,
   "metadata": {},
   "outputs": [],
   "source": [
    "# 音声認識クラスのパラメータ\n",
    "RATE = 16000\n",
    "CHUNK = int(RATE / 10)  # 100ms\n",
    "\n",
    "# 音声合成の初期化\n",
    "tts = GoogleTextToSpeech()\n",
    "\n",
    "# 言語理解の初期化\n",
    "slu_parser = SluML()"
   ]
  },
  {
   "cell_type": "code",
   "execution_count": 5,
   "metadata": {
    "tags": []
   },
   "outputs": [
    {
     "name": "stdout",
     "output_type": "stream",
     "text": [
      "システム： こんにちは。天気案内システムです。どの地域の天気を聞きたいですか。\n",
      "<<<please speak>>>\n",
      "音声パワー： 53.0[dB] 途中結果: 東京の天気を教えてくださいユーザ： 東京の天気を教えてください\n",
      "東京\tB-place\n",
      "の\tO\n",
      "天気\tO\n",
      "を\tO\n",
      "教え\tO\n",
      "て\tO\n",
      "ください\tO\n",
      "[{'intent': '', 'slot_name': 'place', 'slot_value': '東京'}]\n",
      "システム： いつの天気を聞きたいですか。\n",
      "\n",
      "<<<please speak>>>\n",
      "音声パワー： 50.4[dB] ユーザ： 明日でお願いしますす\n",
      "明日\tB-when\n",
      "で\tO\n",
      "お願い\tO\n",
      "し\tO\n",
      "ます\tO\n",
      "[{'intent': '', 'slot_name': 'when', 'slot_value': '明日'}]\n",
      "システム： ご案内します。\n",
      "\n"
     ]
    }
   ],
   "source": [
    "# 対話管理の初期化\n",
    "dm = DmFst()\n",
    "\n",
    "# 初期状態の発話\n",
    "system_utterance = dm.get_system_utterance()\n",
    "tts.generate(system_utterance)\n",
    "print(\"システム： \" + system_utterance)\n",
    "tts.play()\n",
    "\n",
    "# 対話が終了状態に移るまで対話を続ける\n",
    "while(dm.end == False):\n",
    "\n",
    "    # 音声認識入力を得る\t\n",
    "    micStream = MicrophoneStream(RATE, CHUNK)\n",
    "    asrStream = GoogleStreamingASR(RATE, micStream)\n",
    "    print('<<<please speak>>>')\n",
    "    result_asr = asrStream.get_asr_result()\n",
    "\n",
    "    if hasattr(result_asr, 'alternatives') == False:\n",
    "        print('Invalid ASR input')\n",
    "        continue\n",
    "\n",
    "    result_asr_utterance = result_asr.alternatives[0].transcript\n",
    "    print(\"ユーザ： \" + result_asr_utterance)\n",
    "    \n",
    "    # 言語理解\n",
    "    result_slu = slu_parser.extract_slot_weather(result_asr_utterance)\n",
    "    print(result_slu)\n",
    "    \n",
    "    # 対話管理へ入力\n",
    "    system_utterance = dm.enter(result_slu)\n",
    "    tts.generate(system_utterance)\n",
    "    print(\"システム： \" + system_utterance)\n",
    "    tts.play()\n",
    "    \n",
    "    print()\n"
   ]
  }
 ],
 "metadata": {
  "kernelspec": {
   "display_name": "Python 3",
   "language": "python",
   "name": "python3"
  },
  "language_info": {
   "codemirror_mode": {
    "name": "ipython",
    "version": 3
   },
   "file_extension": ".py",
   "mimetype": "text/x-python",
   "name": "python",
   "nbconvert_exporter": "python",
   "pygments_lexer": "ipython3",
   "version": "3.8.8"
  }
 },
 "nbformat": 4,
 "nbformat_minor": 2
}
