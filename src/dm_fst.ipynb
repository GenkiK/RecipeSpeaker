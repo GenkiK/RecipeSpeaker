{
 "cells": [
  {
   "cell_type": "markdown",
   "metadata": {},
   "source": [
    "# 対話管理（有限オートマトンによる方法）\n",
    "ここでは、対話管理を実装します。まずは有限オートマトンによる方法で行います。\n"
   ]
  },
  {
   "cell_type": "markdown",
   "metadata": {},
   "source": [
    "## 事前の設定\n",
    "- 特になし"
   ]
  },
  {
   "cell_type": "code",
   "execution_count": 1,
   "metadata": {},
   "outputs": [],
   "source": [
    "# 必要なラブラリを読み込む\n",
    "\n",
    "import sys, os"
   ]
  },
  {
   "cell_type": "markdown",
   "metadata": {},
   "source": [
    "有限オートマトンを定義します。ここでは状態と遷移を別々に定義します。\n",
    "\n",
    "ここでは、下記の有限オートマトンを実装してみます。ただし、検索条件が揃う（「検索します。」というシステム発話）までを扱います。\n",
    "\n",
    "状態番号は下記とします。\n",
    "- 左の上から４つが上から順に０～３\n",
    "- 右の上から３つが上から順に４～６"
   ]
  },
  {
   "cell_type": "markdown",
   "metadata": {},
   "source": [
    "<img src=\"./img/automaton.png\" style=\"width: 800px;\"/>"
   ]
  },
  {
   "cell_type": "markdown",
   "metadata": {},
   "source": [
    "## 状態の定義\n",
    "\n",
    "まずは、状態の定義です。各状態はシステムの発話に対応します。"
   ]
  },
  {
   "cell_type": "code",
   "execution_count": 2,
   "metadata": {},
   "outputs": [],
   "source": [
    "# 状態の定義\n",
    "\n",
    "# 状態番号、対応するシステム発話\n",
    "states = [\n",
    "    [0, 'こんにちは。京都レストラン案内です。どの地域のレストランをお探しですか。'],\n",
    "    [1, 'どのような料理がお好みですか。'],\n",
    "    [2, 'ご予算はおいくらぐらいですか。'],\n",
    "    [3, '検索します。'],\n",
    "    [4, '地域名を「京都駅近辺のようにおっしゃってください。'],\n",
    "    [5, '和食・洋食・中華・ファストフードからお選びください。'],\n",
    "    [6, '予算を「3000円以下」のようにおっしゃってください。']    \n",
    "]\n",
    "\n",
    "start_state = 0\n",
    "end_state = 3\n"
   ]
  },
  {
   "cell_type": "markdown",
   "metadata": {},
   "source": [
    "## 遷移の定義\n",
    "次に、遷移を定義します。遷移元と遷移先の状態番号、条件となるユーザ発話の情報で構成します。ユーザ発話の情報は、ここでは言語理解で設計したスロット名（place や genre など）にします。また、後で実装しますが、スロット値は変数として保存しておきます。また、遷移条件の「None」はそれより上の条件にマッチしなかった場合の「それ以外の入力」に相当します。"
   ]
  },
  {
   "cell_type": "code",
   "execution_count": 3,
   "metadata": {},
   "outputs": [],
   "source": [
    "# 遷移の定義\n",
    "\n",
    "# 遷移元状態番号、遷移先状態番号、遷移条件（スロット名）\n",
    "transitions = [\n",
    "    [0, 1, 'place'],\n",
    "    [0, 4, None],\n",
    "    [1, 2, 'genre'],\n",
    "    [1, 5, None],\n",
    "    [2, 3, 'budget'],\n",
    "    [2, 6, None],\n",
    "    [4, 1, 'place'],\n",
    "    [4, 4, None],\n",
    "    [5, 2, 'genre'],\n",
    "    [5, 5, None],\n",
    "    [6, 3, 'budget'],\n",
    "    [6, 6, None]\n",
    "]"
   ]
  },
  {
   "cell_type": "markdown",
   "metadata": {},
   "source": [
    "## 制御部の実装\n",
    "では、定義した状態と遷移に基づいて対話を制御します。内部変数として、現在の状態番号を保持し、入力であるユーザ発話に応じてシステム発話を出力し、状態を遷移させます。"
   ]
  },
  {
   "cell_type": "code",
   "execution_count": 4,
   "metadata": {},
   "outputs": [],
   "source": [
    "# 現在の内部状態を初期状態にする\n",
    "current_state = start_state\n",
    "\n",
    "# 遷移条件にマッチしたユーザ発話を保持する\n",
    "context_user_utterance = []\n",
    "\n",
    "# 入力であるユーザ発話に応じてシステム発話を出力し、内部状態を遷移させる\n",
    "# ただし、ユーザ発話の情報は「意図、スロット名、スロット値」のlistとする\n",
    "def enter(user_utterance):\n",
    "    \n",
    "    global current_state\n",
    "    \n",
    "    # フレーム名に対して行う\n",
    "    # 最初の0番目のindexは1発話に対して複数のスロットが抽出された場合に対応するため\n",
    "    # ここでは1発話につき１つのフレームしか含まれないという前提\n",
    "    input_frame_name = user_utterance[0]['slot_name']\n",
    "    input_frame_value = user_utterance[0]['slot_value']\n",
    "    \n",
    "    system_utterance = \"\"\n",
    "    \n",
    "    # 現在の状態からの遷移に対して入力がマッチするか検索\n",
    "    for trans in transitions:\n",
    "        \n",
    "        # 条件の遷移元が現在の状態か\n",
    "        if trans[0] == current_state:\n",
    "            \n",
    "            # 無条件に遷移\n",
    "            if trans[2] is None:\n",
    "                current_state = trans[1]\n",
    "                system_utterance = get_system_utterance()\n",
    "                break\n",
    "            \n",
    "            # 条件にマッチすれば遷移\n",
    "            if trans[2] == input_frame_name:\n",
    "                context_user_utterance.append([input_frame_name, input_frame_value])\n",
    "                current_state = trans[1]\n",
    "                system_utterance = get_system_utterance()\n",
    "                break\n",
    "    \n",
    "    # 修了状態に達したら初期状態へ戻す\n",
    "    if current_state == end_state:\n",
    "        current_state = end_state\n",
    "    \n",
    "    return system_utterance\n",
    "\n",
    "# 初期状態にリセットする\n",
    "def reset():\n",
    "    global current_state\n",
    "    current_state = start_state\n",
    "\n",
    "# 指定された状態に対応するシステムの発話を取得\n",
    "def get_system_utterance():\n",
    "    \n",
    "    global current_state\n",
    "    \n",
    "    utterance = \"\"\n",
    "    \n",
    "    for state_ in states:\n",
    "        if current_state == state_[0]:\n",
    "            utterance = state_[1]\n",
    "    \n",
    "    return utterance"
   ]
  },
  {
   "cell_type": "markdown",
   "metadata": {},
   "source": [
    "## 対話管理のテスト\n",
    "実装した対話管理をテストしてみます。"
   ]
  },
  {
   "cell_type": "code",
   "execution_count": 5,
   "metadata": {
    "tags": []
   },
   "outputs": [
    {
     "name": "stdout",
     "output_type": "stream",
     "text": [
      "システム発話 : こんにちは。京都レストラン案内です。どの地域のレストランをお探しですか。\n"
     ]
    }
   ],
   "source": [
    "reset()\n",
    "\n",
    "# 初期状態の発話を表示\n",
    "print(\"システム発話 : \" + get_system_utterance())"
   ]
  },
  {
   "cell_type": "code",
   "execution_count": 6,
   "metadata": {
    "tags": []
   },
   "outputs": [
    {
     "name": "stdout",
     "output_type": "stream",
     "text": [
      "ユーザ発話\n",
      "[{'slot_name': 'place', 'slot_value': '京都駅周辺'}]\n",
      "\n",
      "システム発話\n",
      "どのような料理がお好みですか。\n"
     ]
    }
   ],
   "source": [
    "# ユーザ発話を設定\n",
    "user_utterance = [{'slot_name': 'place', 'slot_value': '京都駅周辺'}]\n",
    "print('ユーザ発話')\n",
    "print(user_utterance)\n",
    "\n",
    "print()\n",
    "\n",
    "# 次のシステム発話を表示\n",
    "print('システム発話')\n",
    "print(enter(user_utterance))"
   ]
  },
  {
   "cell_type": "code",
   "execution_count": 7,
   "metadata": {
    "tags": []
   },
   "outputs": [
    {
     "name": "stdout",
     "output_type": "stream",
     "text": [
      "ユーザ発話\n",
      "[{'slot_name': 'place', 'slot_value': '新宿'}]\n",
      "\n",
      "システム発話\n",
      "和食・洋食・中華・ファストフードからお選びください。\n"
     ]
    }
   ],
   "source": [
    "# 誤った発話を入力してみる\n",
    "\n",
    "# ユーザ発話を設定\n",
    "user_utterance = [{'slot_name': 'place', 'slot_value': '新宿'}]\n",
    "print('ユーザ発話')\n",
    "print(user_utterance)\n",
    "print()\n",
    "\n",
    "# 次のシステム発話を表示\n",
    "print('システム発話')\n",
    "print(enter(user_utterance))"
   ]
  },
  {
   "cell_type": "code",
   "execution_count": 8,
   "metadata": {
    "tags": []
   },
   "outputs": [
    {
     "name": "stdout",
     "output_type": "stream",
     "text": [
      "ユーザ発話\n",
      "[{'slot_name': 'genre', 'slot_value': '和食'}]\n",
      "\n",
      "システム発話\n",
      "ご予算はおいくらぐらいですか。\n"
     ]
    }
   ],
   "source": [
    "# ユーザ発話を設定\n",
    "user_utterance = [{'slot_name': 'genre', 'slot_value': '和食'}]\n",
    "print('ユーザ発話')\n",
    "print(user_utterance)\n",
    "print()\n",
    "\n",
    "# 次のシステム発話を表示\n",
    "print('システム発話')\n",
    "print(enter(user_utterance))"
   ]
  },
  {
   "cell_type": "code",
   "execution_count": 9,
   "metadata": {
    "tags": []
   },
   "outputs": [
    {
     "name": "stdout",
     "output_type": "stream",
     "text": [
      "ユーザ発話\n",
      "[{'slot_name': 'budget', 'slot_value': '3000円以下'}]\n",
      "\n",
      "システム発話\n",
      "検索します。\n"
     ]
    }
   ],
   "source": [
    "# ユーザ発話を設定\n",
    "user_utterance = [{'slot_name': 'budget', 'slot_value': '3000円以下'}]\n",
    "print('ユーザ発話')\n",
    "print(user_utterance)\n",
    "print()\n",
    "\n",
    "# 次のシステム発話を表示\n",
    "print('システム発話')\n",
    "print(enter(user_utterance))"
   ]
  }
 ],
 "metadata": {
  "kernelspec": {
   "display_name": "Python 3.8.10 ('recipe-speaker-85u9EEX0-py3.8')",
   "language": "python",
   "name": "python3"
  },
  "language_info": {
   "codemirror_mode": {
    "name": "ipython",
    "version": 3
   },
   "file_extension": ".py",
   "mimetype": "text/x-python",
   "name": "python",
   "nbconvert_exporter": "python",
   "pygments_lexer": "ipython3",
   "version": "3.8.10"
  },
  "vscode": {
   "interpreter": {
    "hash": "fa57a6232d37c167775873211725132e05f34510568131ca4e9b06812e5a6271"
   }
  }
 },
 "nbformat": 4,
 "nbformat_minor": 2
}
