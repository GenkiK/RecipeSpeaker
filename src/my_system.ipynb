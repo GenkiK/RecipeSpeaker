{
 "cells": [
  {
   "cell_type": "markdown",
   "metadata": {},
   "source": [
    "# システム統合１（有限オートマトン）\n",
    "それでは、これまでに実装してきたモジュールを統合して音声対話システムを作成してみましょう。\n",
    "\n",
    "- 仕様\n",
    "    - 音声認識：Google（ストリーミング、オリジナルVAD）\n",
    "    - 音声合成：Google\n",
    "    - 言語理解：ルールベース（フレーム）\n",
    "    - 対話管理：有限オートマトン"
   ]
  },
  {
   "cell_type": "code",
   "execution_count": 5,
   "metadata": {},
   "outputs": [],
   "source": [
    "# 必要なラブラリを読み込む\n",
    "\n",
    "# 実装したライブラリを読み込む\n",
    "from asr_google_streaming_vad import GoogleStreamingASR, MicrophoneStream   # VADあり\n",
    "from tts_google import GoogleTextToSpeech\n",
    "from my_dm_fst import DmFst\n",
    "from my_slu_rule import SluRule\n",
    "from my_ocr import OCR\n",
    "from pathlib import Path"
   ]
  },
  {
   "cell_type": "code",
   "execution_count": 6,
   "metadata": {},
   "outputs": [],
   "source": [
    "# 入力した画像に対してOCRを行う\n",
    "recipe_path = \"./recipes/recipe6.png\"\n",
    "ocr = OCR(Path(recipe_path) if recipe_path else None)\n",
    "procedures = ocr.detect_chars()"
   ]
  },
  {
   "cell_type": "code",
   "execution_count": 7,
   "metadata": {},
   "outputs": [
    {
     "name": "stdout",
     "output_type": "stream",
     "text": [
      "{1: '1番．．．ニニ杯酢を作る。酢を耐熱容器に入れ、電子レンジに20秒かけ、酢気をとばす。冷ましてからしょうゆを合わせる。',\n",
      " 2: '2番．．．あじの両面に薄く塩をし、15-~20分おく。',\n",
      " 3: '3番．．．バットに酢を入れ、②を入れて5分浸ける。小骨を抜く。',\n",
      " 4: '4番．．．あじの頭側から皮をむく。まず、指先で皮をめくる。',\n",
      " 5: '5番．．．少しむいたら、もう一方の手で身を押さえながら静かにむいていく。',\n",
      " 6: '6番．．．銀皮側に鹿の子に切り目を入れ、ひと口大に切って器に盛る。きゅうり、わかめを盛り合わせ、おろししょうがをのせて二杯酢をかける。．．これでレシピは以上です．'}\n"
     ]
    }
   ],
   "source": [
    "from pprint import pprint\n",
    "pprint(procedures)"
   ]
  },
  {
   "cell_type": "code",
   "execution_count": 8,
   "metadata": {},
   "outputs": [],
   "source": [
    "# 音声認識クラスのパラメータ\n",
    "RATE = 16000\n",
    "CHUNK = int(RATE / 10)  # 100ms\n",
    "\n",
    "# 音声合成の初期化\n",
    "tts = GoogleTextToSpeech()\n",
    "\n",
    "# 言語理解の初期化\n",
    "slu_parser = SluRule(num_proc=len(procedures))"
   ]
  },
  {
   "cell_type": "code",
   "execution_count": 9,
   "metadata": {
    "tags": []
   },
   "outputs": [
    {
     "name": "stdout",
     "output_type": "stream",
     "text": [
      "システム： レシピ読み上げさんです．レシピ写真をアップロードしてください．\n",
      "<<<please speak>>>\n",
      "音声パワー： 45.1[dB] "
     ]
    },
    {
     "ename": "KeyboardInterrupt",
     "evalue": "",
     "output_type": "error",
     "traceback": [
      "\u001b[1;31m---------------------------------------------------------------------------\u001b[0m",
      "\u001b[1;31mKeyboardInterrupt\u001b[0m                         Traceback (most recent call last)",
      "\u001b[1;32mc:\\Users\\genki\\workspace\\recipe_speaker\\src\\my_system.ipynb Cell 6'\u001b[0m in \u001b[0;36m<cell line: 11>\u001b[1;34m()\u001b[0m\n\u001b[0;32m     <a href='vscode-notebook-cell:/c%3A/Users/genki/workspace/recipe_speaker/src/my_system.ipynb#ch0000006?line=14'>15</a>\u001b[0m asrStream \u001b[39m=\u001b[39m GoogleStreamingASR(RATE, micStream)\n\u001b[0;32m     <a href='vscode-notebook-cell:/c%3A/Users/genki/workspace/recipe_speaker/src/my_system.ipynb#ch0000006?line=15'>16</a>\u001b[0m \u001b[39mprint\u001b[39m(\u001b[39m'\u001b[39m\u001b[39m<<<please speak>>>\u001b[39m\u001b[39m'\u001b[39m)\n\u001b[1;32m---> <a href='vscode-notebook-cell:/c%3A/Users/genki/workspace/recipe_speaker/src/my_system.ipynb#ch0000006?line=16'>17</a>\u001b[0m result_asr \u001b[39m=\u001b[39m asrStream\u001b[39m.\u001b[39;49mget_asr_result()\n\u001b[0;32m     <a href='vscode-notebook-cell:/c%3A/Users/genki/workspace/recipe_speaker/src/my_system.ipynb#ch0000006?line=18'>19</a>\u001b[0m \u001b[39mif\u001b[39;00m \u001b[39mhasattr\u001b[39m(result_asr, \u001b[39m'\u001b[39m\u001b[39malternatives\u001b[39m\u001b[39m'\u001b[39m) \u001b[39m==\u001b[39m \u001b[39mFalse\u001b[39;00m:\n\u001b[0;32m     <a href='vscode-notebook-cell:/c%3A/Users/genki/workspace/recipe_speaker/src/my_system.ipynb#ch0000006?line=19'>20</a>\u001b[0m     \u001b[39mprint\u001b[39m(\u001b[39m'\u001b[39m\u001b[39mInvalid ASR input\u001b[39m\u001b[39m'\u001b[39m)\n",
      "File \u001b[1;32mc:\\Users\\genki\\workspace\\recipe_speaker\\src\\asr_google_streaming_vad.py:244\u001b[0m, in \u001b[0;36mGoogleStreamingASR.get_asr_result\u001b[1;34m(self)\u001b[0m\n\u001b[0;32m    240\u001b[0m requests \u001b[39m=\u001b[39m (speech\u001b[39m.\u001b[39mStreamingRecognizeRequest(audio_content\u001b[39m=\u001b[39mcontent)\n\u001b[0;32m    241\u001b[0m \t\u001b[39mfor\u001b[39;00m content \u001b[39min\u001b[39;00m audio_generator)\n\u001b[0;32m    243\u001b[0m \u001b[39m# 認識されるとrecieve_asr_result関数が呼ばれる\u001b[39;00m\n\u001b[1;32m--> 244\u001b[0m responses \u001b[39m=\u001b[39m \u001b[39mself\u001b[39;49m\u001b[39m.\u001b[39;49mclient\u001b[39m.\u001b[39;49mstreaming_recognize(\u001b[39mself\u001b[39;49m\u001b[39m.\u001b[39;49mstreaming_config, requests)\n\u001b[0;32m    245\u001b[0m \u001b[39mself\u001b[39m\u001b[39m.\u001b[39mrecieve_asr_result(responses)\n\u001b[0;32m    247\u001b[0m \u001b[39m# 認識結果を返す\u001b[39;00m\n",
      "File \u001b[1;32mc:\\Users\\genki\\AppData\\Local\\pypoetry\\Cache\\virtualenvs\\recipe-speaker-85u9EEX0-py3.8\\lib\\site-packages\\google\\cloud\\speech_v1\\helpers.py:81\u001b[0m, in \u001b[0;36mSpeechHelpers.streaming_recognize\u001b[1;34m(self, config, requests, retry, timeout, metadata)\u001b[0m\n\u001b[0;32m     28\u001b[0m \u001b[39mdef\u001b[39;00m \u001b[39mstreaming_recognize\u001b[39m(\n\u001b[0;32m     29\u001b[0m     \u001b[39mself\u001b[39m,\n\u001b[0;32m     30\u001b[0m     config,\n\u001b[1;32m   (...)\u001b[0m\n\u001b[0;32m     35\u001b[0m     metadata\u001b[39m=\u001b[39m(),\n\u001b[0;32m     36\u001b[0m ):\n\u001b[0;32m     37\u001b[0m     \u001b[39m\"\"\"Perform bi-directional speech recognition.\u001b[39;00m\n\u001b[0;32m     38\u001b[0m \n\u001b[0;32m     39\u001b[0m \u001b[39m    This method allows you to receive results while sending audio;\u001b[39;00m\n\u001b[1;32m   (...)\u001b[0m\n\u001b[0;32m     79\u001b[0m \u001b[39m      :exc:`ValueError` if the parameters are invalid.\u001b[39;00m\n\u001b[0;32m     80\u001b[0m \u001b[39m    \"\"\"\u001b[39;00m\n\u001b[1;32m---> 81\u001b[0m     \u001b[39mreturn\u001b[39;00m \u001b[39msuper\u001b[39;49m(SpeechHelpers, \u001b[39mself\u001b[39;49m)\u001b[39m.\u001b[39;49mstreaming_recognize(\n\u001b[0;32m     82\u001b[0m         requests\u001b[39m=\u001b[39;49m\u001b[39mself\u001b[39;49m\u001b[39m.\u001b[39;49m_streaming_request_iterable(config, requests),\n\u001b[0;32m     83\u001b[0m         retry\u001b[39m=\u001b[39;49mretry,\n\u001b[0;32m     84\u001b[0m         timeout\u001b[39m=\u001b[39;49mtimeout,\n\u001b[0;32m     85\u001b[0m     )\n",
      "File \u001b[1;32mc:\\Users\\genki\\AppData\\Local\\pypoetry\\Cache\\virtualenvs\\recipe-speaker-85u9EEX0-py3.8\\lib\\site-packages\\google\\cloud\\speech_v1\\services\\speech\\client.py:831\u001b[0m, in \u001b[0;36mSpeechClient.streaming_recognize\u001b[1;34m(self, requests, retry, timeout, metadata)\u001b[0m\n\u001b[0;32m    828\u001b[0m rpc \u001b[39m=\u001b[39m \u001b[39mself\u001b[39m\u001b[39m.\u001b[39m_transport\u001b[39m.\u001b[39m_wrapped_methods[\u001b[39mself\u001b[39m\u001b[39m.\u001b[39m_transport\u001b[39m.\u001b[39mstreaming_recognize]\n\u001b[0;32m    830\u001b[0m \u001b[39m# Send the request.\u001b[39;00m\n\u001b[1;32m--> 831\u001b[0m response \u001b[39m=\u001b[39m rpc(\n\u001b[0;32m    832\u001b[0m     requests,\n\u001b[0;32m    833\u001b[0m     retry\u001b[39m=\u001b[39;49mretry,\n\u001b[0;32m    834\u001b[0m     timeout\u001b[39m=\u001b[39;49mtimeout,\n\u001b[0;32m    835\u001b[0m     metadata\u001b[39m=\u001b[39;49mmetadata,\n\u001b[0;32m    836\u001b[0m )\n\u001b[0;32m    838\u001b[0m \u001b[39m# Done; return the response.\u001b[39;00m\n\u001b[0;32m    839\u001b[0m \u001b[39mreturn\u001b[39;00m response\n",
      "File \u001b[1;32mc:\\Users\\genki\\AppData\\Local\\pypoetry\\Cache\\virtualenvs\\recipe-speaker-85u9EEX0-py3.8\\lib\\site-packages\\google\\api_core\\gapic_v1\\method.py:154\u001b[0m, in \u001b[0;36m_GapicCallable.__call__\u001b[1;34m(self, timeout, retry, *args, **kwargs)\u001b[0m\n\u001b[0;32m    151\u001b[0m     metadata\u001b[39m.\u001b[39mextend(\u001b[39mself\u001b[39m\u001b[39m.\u001b[39m_metadata)\n\u001b[0;32m    152\u001b[0m     kwargs[\u001b[39m\"\u001b[39m\u001b[39mmetadata\u001b[39m\u001b[39m\"\u001b[39m] \u001b[39m=\u001b[39m metadata\n\u001b[1;32m--> 154\u001b[0m \u001b[39mreturn\u001b[39;00m wrapped_func(\u001b[39m*\u001b[39;49margs, \u001b[39m*\u001b[39;49m\u001b[39m*\u001b[39;49mkwargs)\n",
      "File \u001b[1;32mc:\\Users\\genki\\AppData\\Local\\pypoetry\\Cache\\virtualenvs\\recipe-speaker-85u9EEX0-py3.8\\lib\\site-packages\\google\\api_core\\retry.py:283\u001b[0m, in \u001b[0;36mRetry.__call__.<locals>.retry_wrapped_func\u001b[1;34m(*args, **kwargs)\u001b[0m\n\u001b[0;32m    279\u001b[0m target \u001b[39m=\u001b[39m functools\u001b[39m.\u001b[39mpartial(func, \u001b[39m*\u001b[39margs, \u001b[39m*\u001b[39m\u001b[39m*\u001b[39mkwargs)\n\u001b[0;32m    280\u001b[0m sleep_generator \u001b[39m=\u001b[39m exponential_sleep_generator(\n\u001b[0;32m    281\u001b[0m     \u001b[39mself\u001b[39m\u001b[39m.\u001b[39m_initial, \u001b[39mself\u001b[39m\u001b[39m.\u001b[39m_maximum, multiplier\u001b[39m=\u001b[39m\u001b[39mself\u001b[39m\u001b[39m.\u001b[39m_multiplier\n\u001b[0;32m    282\u001b[0m )\n\u001b[1;32m--> 283\u001b[0m \u001b[39mreturn\u001b[39;00m retry_target(\n\u001b[0;32m    284\u001b[0m     target,\n\u001b[0;32m    285\u001b[0m     \u001b[39mself\u001b[39;49m\u001b[39m.\u001b[39;49m_predicate,\n\u001b[0;32m    286\u001b[0m     sleep_generator,\n\u001b[0;32m    287\u001b[0m     \u001b[39mself\u001b[39;49m\u001b[39m.\u001b[39;49m_deadline,\n\u001b[0;32m    288\u001b[0m     on_error\u001b[39m=\u001b[39;49mon_error,\n\u001b[0;32m    289\u001b[0m )\n",
      "File \u001b[1;32mc:\\Users\\genki\\AppData\\Local\\pypoetry\\Cache\\virtualenvs\\recipe-speaker-85u9EEX0-py3.8\\lib\\site-packages\\google\\api_core\\retry.py:190\u001b[0m, in \u001b[0;36mretry_target\u001b[1;34m(target, predicate, sleep_generator, deadline, on_error)\u001b[0m\n\u001b[0;32m    188\u001b[0m \u001b[39mfor\u001b[39;00m sleep \u001b[39min\u001b[39;00m sleep_generator:\n\u001b[0;32m    189\u001b[0m     \u001b[39mtry\u001b[39;00m:\n\u001b[1;32m--> 190\u001b[0m         \u001b[39mreturn\u001b[39;00m target()\n\u001b[0;32m    192\u001b[0m     \u001b[39m# pylint: disable=broad-except\u001b[39;00m\n\u001b[0;32m    193\u001b[0m     \u001b[39m# This function explicitly must deal with broad exceptions.\u001b[39;00m\n\u001b[0;32m    194\u001b[0m     \u001b[39mexcept\u001b[39;00m \u001b[39mException\u001b[39;00m \u001b[39mas\u001b[39;00m exc:\n",
      "File \u001b[1;32mc:\\Users\\genki\\AppData\\Local\\pypoetry\\Cache\\virtualenvs\\recipe-speaker-85u9EEX0-py3.8\\lib\\site-packages\\google\\api_core\\timeout.py:99\u001b[0m, in \u001b[0;36mConstantTimeout.__call__.<locals>.func_with_timeout\u001b[1;34m(*args, **kwargs)\u001b[0m\n\u001b[0;32m     97\u001b[0m \u001b[39m\"\"\"Wrapped function that adds timeout.\"\"\"\u001b[39;00m\n\u001b[0;32m     98\u001b[0m kwargs[\u001b[39m\"\u001b[39m\u001b[39mtimeout\u001b[39m\u001b[39m\"\u001b[39m] \u001b[39m=\u001b[39m \u001b[39mself\u001b[39m\u001b[39m.\u001b[39m_timeout\n\u001b[1;32m---> 99\u001b[0m \u001b[39mreturn\u001b[39;00m func(\u001b[39m*\u001b[39;49margs, \u001b[39m*\u001b[39;49m\u001b[39m*\u001b[39;49mkwargs)\n",
      "File \u001b[1;32mc:\\Users\\genki\\AppData\\Local\\pypoetry\\Cache\\virtualenvs\\recipe-speaker-85u9EEX0-py3.8\\lib\\site-packages\\google\\api_core\\grpc_helpers.py:140\u001b[0m, in \u001b[0;36m_wrap_stream_errors.<locals>.error_remapped_callable\u001b[1;34m(*args, **kwargs)\u001b[0m\n\u001b[0;32m    135\u001b[0m     \u001b[39m# Auto-fetching the first result causes PubSub client's streaming pull\u001b[39;00m\n\u001b[0;32m    136\u001b[0m     \u001b[39m# to hang when re-opening the stream, thus we need examine the hacky\u001b[39;00m\n\u001b[0;32m    137\u001b[0m     \u001b[39m# hidden flag to see if pre-fetching is disabled.\u001b[39;00m\n\u001b[0;32m    138\u001b[0m     \u001b[39m# https://github.com/googleapis/python-pubsub/issues/93#issuecomment-630762257\u001b[39;00m\n\u001b[0;32m    139\u001b[0m     prefetch_first \u001b[39m=\u001b[39m \u001b[39mgetattr\u001b[39m(callable_, \u001b[39m\"\u001b[39m\u001b[39m_prefetch_first_result_\u001b[39m\u001b[39m\"\u001b[39m, \u001b[39mTrue\u001b[39;00m)\n\u001b[1;32m--> 140\u001b[0m     \u001b[39mreturn\u001b[39;00m _StreamingResponseIterator(\n\u001b[0;32m    141\u001b[0m         result, prefetch_first_result\u001b[39m=\u001b[39;49mprefetch_first\n\u001b[0;32m    142\u001b[0m     )\n\u001b[0;32m    143\u001b[0m \u001b[39mexcept\u001b[39;00m grpc\u001b[39m.\u001b[39mRpcError \u001b[39mas\u001b[39;00m exc:\n\u001b[0;32m    144\u001b[0m     \u001b[39mraise\u001b[39;00m exceptions\u001b[39m.\u001b[39mfrom_grpc_error(exc) \u001b[39mfrom\u001b[39;00m \u001b[39mexc\u001b[39;00m\n",
      "File \u001b[1;32mc:\\Users\\genki\\AppData\\Local\\pypoetry\\Cache\\virtualenvs\\recipe-speaker-85u9EEX0-py3.8\\lib\\site-packages\\google\\api_core\\grpc_helpers.py:66\u001b[0m, in \u001b[0;36m_StreamingResponseIterator.__init__\u001b[1;34m(self, wrapped, prefetch_first_result)\u001b[0m\n\u001b[0;32m     64\u001b[0m \u001b[39mtry\u001b[39;00m:\n\u001b[0;32m     65\u001b[0m     \u001b[39mif\u001b[39;00m prefetch_first_result:\n\u001b[1;32m---> 66\u001b[0m         \u001b[39mself\u001b[39m\u001b[39m.\u001b[39m_stored_first_result \u001b[39m=\u001b[39m \u001b[39mnext\u001b[39;49m(\u001b[39mself\u001b[39;49m\u001b[39m.\u001b[39;49m_wrapped)\n\u001b[0;32m     67\u001b[0m \u001b[39mexcept\u001b[39;00m \u001b[39mTypeError\u001b[39;00m:\n\u001b[0;32m     68\u001b[0m     \u001b[39m# It is possible the wrapped method isn't an iterable (a grpc.Call\u001b[39;00m\n\u001b[0;32m     69\u001b[0m     \u001b[39m# for instance). If this happens don't store the first result.\u001b[39;00m\n\u001b[0;32m     70\u001b[0m     \u001b[39mpass\u001b[39;00m\n",
      "File \u001b[1;32mc:\\Users\\genki\\AppData\\Local\\pypoetry\\Cache\\virtualenvs\\recipe-speaker-85u9EEX0-py3.8\\lib\\site-packages\\grpc\\_channel.py:426\u001b[0m, in \u001b[0;36m_Rendezvous.__next__\u001b[1;34m(self)\u001b[0m\n\u001b[0;32m    425\u001b[0m \u001b[39mdef\u001b[39;00m \u001b[39m__next__\u001b[39m(\u001b[39mself\u001b[39m):\n\u001b[1;32m--> 426\u001b[0m     \u001b[39mreturn\u001b[39;00m \u001b[39mself\u001b[39;49m\u001b[39m.\u001b[39;49m_next()\n",
      "File \u001b[1;32mc:\\Users\\genki\\AppData\\Local\\pypoetry\\Cache\\virtualenvs\\recipe-speaker-85u9EEX0-py3.8\\lib\\site-packages\\grpc\\_channel.py:817\u001b[0m, in \u001b[0;36m_MultiThreadedRendezvous._next\u001b[1;34m(self)\u001b[0m\n\u001b[0;32m    811\u001b[0m \u001b[39mdef\u001b[39;00m \u001b[39m_response_ready\u001b[39m():\n\u001b[0;32m    812\u001b[0m     \u001b[39mreturn\u001b[39;00m (\u001b[39mself\u001b[39m\u001b[39m.\u001b[39m_state\u001b[39m.\u001b[39mresponse \u001b[39mis\u001b[39;00m \u001b[39mnot\u001b[39;00m \u001b[39mNone\u001b[39;00m \u001b[39mor\u001b[39;00m\n\u001b[0;32m    813\u001b[0m             (cygrpc\u001b[39m.\u001b[39mOperationType\u001b[39m.\u001b[39mreceive_message\n\u001b[0;32m    814\u001b[0m              \u001b[39mnot\u001b[39;00m \u001b[39min\u001b[39;00m \u001b[39mself\u001b[39m\u001b[39m.\u001b[39m_state\u001b[39m.\u001b[39mdue \u001b[39mand\u001b[39;00m\n\u001b[0;32m    815\u001b[0m              \u001b[39mself\u001b[39m\u001b[39m.\u001b[39m_state\u001b[39m.\u001b[39mcode \u001b[39mis\u001b[39;00m \u001b[39mnot\u001b[39;00m \u001b[39mNone\u001b[39;00m))\n\u001b[1;32m--> 817\u001b[0m _common\u001b[39m.\u001b[39;49mwait(\u001b[39mself\u001b[39;49m\u001b[39m.\u001b[39;49m_state\u001b[39m.\u001b[39;49mcondition\u001b[39m.\u001b[39;49mwait, _response_ready)\n\u001b[0;32m    818\u001b[0m \u001b[39mif\u001b[39;00m \u001b[39mself\u001b[39m\u001b[39m.\u001b[39m_state\u001b[39m.\u001b[39mresponse \u001b[39mis\u001b[39;00m \u001b[39mnot\u001b[39;00m \u001b[39mNone\u001b[39;00m:\n\u001b[0;32m    819\u001b[0m     response \u001b[39m=\u001b[39m \u001b[39mself\u001b[39m\u001b[39m.\u001b[39m_state\u001b[39m.\u001b[39mresponse\n",
      "File \u001b[1;32mc:\\Users\\genki\\AppData\\Local\\pypoetry\\Cache\\virtualenvs\\recipe-speaker-85u9EEX0-py3.8\\lib\\site-packages\\grpc\\_common.py:141\u001b[0m, in \u001b[0;36mwait\u001b[1;34m(wait_fn, wait_complete_fn, timeout, spin_cb)\u001b[0m\n\u001b[0;32m    139\u001b[0m \u001b[39mif\u001b[39;00m timeout \u001b[39mis\u001b[39;00m \u001b[39mNone\u001b[39;00m:\n\u001b[0;32m    140\u001b[0m     \u001b[39mwhile\u001b[39;00m \u001b[39mnot\u001b[39;00m wait_complete_fn():\n\u001b[1;32m--> 141\u001b[0m         _wait_once(wait_fn, MAXIMUM_WAIT_TIMEOUT, spin_cb)\n\u001b[0;32m    142\u001b[0m \u001b[39melse\u001b[39;00m:\n\u001b[0;32m    143\u001b[0m     end \u001b[39m=\u001b[39m time\u001b[39m.\u001b[39mtime() \u001b[39m+\u001b[39m timeout\n",
      "File \u001b[1;32mc:\\Users\\genki\\AppData\\Local\\pypoetry\\Cache\\virtualenvs\\recipe-speaker-85u9EEX0-py3.8\\lib\\site-packages\\grpc\\_common.py:106\u001b[0m, in \u001b[0;36m_wait_once\u001b[1;34m(wait_fn, timeout, spin_cb)\u001b[0m\n\u001b[0;32m    105\u001b[0m \u001b[39mdef\u001b[39;00m \u001b[39m_wait_once\u001b[39m(wait_fn, timeout, spin_cb):\n\u001b[1;32m--> 106\u001b[0m     wait_fn(timeout\u001b[39m=\u001b[39;49mtimeout)\n\u001b[0;32m    107\u001b[0m     \u001b[39mif\u001b[39;00m spin_cb \u001b[39mis\u001b[39;00m \u001b[39mnot\u001b[39;00m \u001b[39mNone\u001b[39;00m:\n\u001b[0;32m    108\u001b[0m         spin_cb()\n",
      "File \u001b[1;32m~\\.pyenv\\pyenv-win\\versions\\3.8.10\\lib\\threading.py:306\u001b[0m, in \u001b[0;36mCondition.wait\u001b[1;34m(self, timeout)\u001b[0m\n\u001b[0;32m    304\u001b[0m \u001b[39melse\u001b[39;00m:\n\u001b[0;32m    305\u001b[0m     \u001b[39mif\u001b[39;00m timeout \u001b[39m>\u001b[39m \u001b[39m0\u001b[39m:\n\u001b[1;32m--> 306\u001b[0m         gotit \u001b[39m=\u001b[39m waiter\u001b[39m.\u001b[39;49macquire(\u001b[39mTrue\u001b[39;49;00m, timeout)\n\u001b[0;32m    307\u001b[0m     \u001b[39melse\u001b[39;00m:\n\u001b[0;32m    308\u001b[0m         gotit \u001b[39m=\u001b[39m waiter\u001b[39m.\u001b[39macquire(\u001b[39mFalse\u001b[39;00m)\n",
      "\u001b[1;31mKeyboardInterrupt\u001b[0m: "
     ]
    },
    {
     "name": "stdout",
     "output_type": "stream",
     "text": [
      "音声パワー： 28.1[dB] "
     ]
    }
   ],
   "source": [
    "# 対話管理の初期化\n",
    "dm = DmFst(recipe=procedures)\n",
    "\n",
    "# 初期状態の発話\n",
    "system_utterance = dm.get_system_utterance()\n",
    "tts.generate(system_utterance)\n",
    "print(\"システム： \" + system_utterance)\n",
    "tts.play()\n",
    "\n",
    "# 対話が終了状態に移るまで対話を続ける\n",
    "while(dm.end == False):\n",
    "\n",
    "    # 音声認識入力を得る\n",
    "    micStream = MicrophoneStream(RATE, CHUNK)\n",
    "    asrStream = GoogleStreamingASR(RATE, micStream)\n",
    "    print('<<<please speak>>>')\n",
    "    result_asr = asrStream.get_asr_result()\n",
    "\n",
    "    if hasattr(result_asr, 'alternatives') == False:\n",
    "        print('Invalid ASR input')\n",
    "        continue\n",
    "\n",
    "    result_asr_utterance = result_asr.alternatives[0].transcript\n",
    "    print(\"ユーザ： \" + result_asr_utterance)\n",
    "    \n",
    "    # 言語理解\n",
    "    result_slu = slu_parser.parse_frame(result_asr_utterance)\n",
    "    print(result_slu)\n",
    "    \n",
    "    # 対話管理へ入力\n",
    "    system_utterance = dm.enter(result_slu)\n",
    "    tts.generate(system_utterance)\n",
    "    print(\"システム： \" + system_utterance)\n",
    "    tts.play()\n",
    "    \n",
    "    print()\n"
   ]
  },
  {
   "cell_type": "code",
   "execution_count": null,
   "metadata": {},
   "outputs": [],
   "source": []
  },
  {
   "cell_type": "code",
   "execution_count": null,
   "metadata": {},
   "outputs": [],
   "source": []
  },
  {
   "cell_type": "code",
   "execution_count": null,
   "metadata": {},
   "outputs": [],
   "source": []
  }
 ],
 "metadata": {
  "kernelspec": {
   "display_name": "Python 3.8.10 ('recipe-speaker-85u9EEX0-py3.8')",
   "language": "python",
   "name": "python3"
  },
  "language_info": {
   "codemirror_mode": {
    "name": "ipython",
    "version": 3
   },
   "file_extension": ".py",
   "mimetype": "text/x-python",
   "name": "python",
   "nbconvert_exporter": "python",
   "pygments_lexer": "ipython3",
   "version": "3.8.10"
  },
  "vscode": {
   "interpreter": {
    "hash": "fa57a6232d37c167775873211725132e05f34510568131ca4e9b06812e5a6271"
   }
  }
 },
 "nbformat": 4,
 "nbformat_minor": 2
}
