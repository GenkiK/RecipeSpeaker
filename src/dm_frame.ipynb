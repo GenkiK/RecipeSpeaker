{
 "cells": [
  {
   "cell_type": "markdown",
   "metadata": {},
   "source": [
    "# 対話管理（フレームによる方法）\n",
    "次に、フレームによる対話管理を行います。\n"
   ]
  },
  {
   "cell_type": "markdown",
   "metadata": {},
   "source": [
    "## 事前の設定\n",
    "- 特になし"
   ]
  },
  {
   "cell_type": "code",
   "execution_count": 1,
   "metadata": {},
   "outputs": [],
   "source": [
    "# 必要なラブラリを読み込む\n",
    "\n",
    "import sys, os"
   ]
  },
  {
   "cell_type": "markdown",
   "metadata": {},
   "source": [
    "ここでは、下記のフレームを実装します。\n",
    "「制約」の列はそのスロットが埋まる必要があるか否かを表します。つまり、地域とジャンルは必ず指定する必要がありますが、予算は指定されていなくても検索可能とします。"
   ]
  },
  {
   "cell_type": "markdown",
   "metadata": {},
   "source": [
    "<img src=\"./img/slot.png\" style=\"width: 400px;\"/>"
   ]
  },
  {
   "cell_type": "markdown",
   "metadata": {},
   "source": [
    "## フレームの定義\n",
    "\n",
    "まずは、フレームを定義します。スロット名は言語理解結果のスロット名と対応するようにします。"
   ]
  },
  {
   "cell_type": "code",
   "execution_count": 2,
   "metadata": {},
   "outputs": [],
   "source": [
    "# フレームの定義\n",
    "\n",
    "# スロット名、制約\n",
    "frame = [\n",
    "    ['place', 'mandatory'],\n",
    "    ['genre', 'mandatory'],\n",
    "    ['budget', 'optional']\n",
    "]\n"
   ]
  },
  {
   "cell_type": "markdown",
   "metadata": {},
   "source": [
    "## セリフの定義\n",
    "\n",
    "次に必須の項目に関して、それを尋ねるセリフを定義します。\n",
    "また、最初と最後の発話も特別に定義しておきます。"
   ]
  },
  {
   "cell_type": "code",
   "execution_count": 3,
   "metadata": {},
   "outputs": [],
   "source": [
    "# 必須項目を尋ねるセリフ\n",
    "\n",
    "# 辞書型でKeyをスロット名、Valueをセリフにする\n",
    "utterances = {\n",
    "    'place': '地域を指定してください',\n",
    "    'genre': 'ジャンルを指定してください',\n",
    "}\n",
    "\n",
    "# 最初の発話\n",
    "utterance_start = 'こんにちは。京都レストラン案内です。ご質問をどうぞ。'\n",
    "\n",
    "# 最後の発話は条件に応じて生成する\n",
    "def gen_utterance_last(current_frame):\n",
    "\n",
    "    # Optionalである\"budget\"が埋まっていれば\n",
    "    if 'budget' in current_frame:\n",
    "        system_utterance = '地域は%sで、ジャンルは%s、予算は%sですね。検索します。' % (current_frame['place'], current_frame['genre'], current_frame['budget'])\n",
    "    # \"budget\"が埋まっていなければ\n",
    "    else:\n",
    "        system_utterance = '地域は%sで、ジャンルは%sですね。検索します。' % (current_frame['place'], current_frame['genre'])\n",
    "    \n",
    "    return system_utterance"
   ]
  },
  {
   "cell_type": "markdown",
   "metadata": {},
   "source": [
    "## 制御部の実装\n",
    "では、フレームに基づいて対話を制御します。内部変数として、現在のフレームの状態（スロット値）を保持し、入力であるユーザ発話に応じてフレームの状態を更新して、システム発話を出力します。"
   ]
  },
  {
   "cell_type": "code",
   "execution_count": 4,
   "metadata": {},
   "outputs": [],
   "source": [
    "# フレームの現在の状態を保持\n",
    "# 辞書型のKeyにスロット名、Valueにスロット値を格納する\n",
    "current_frame = {}\n",
    "\n",
    "# フレームで必須の情報がすべて埋まったかどうかを保持する\n",
    "current_frame_filled = False\n",
    "\n",
    "# 入力であるユーザ発話に応じて、フレームの状態を更新し、システム発話を出力し\n",
    "# ただし、ユーザ発話の情報は「意図、スロット名、スロット値」のlistとする\n",
    "def enter(user_utterance):\n",
    "    \n",
    "    global current_frame, current_frame_filled\n",
    "    \n",
    "    # １つのユーザ発話に複数のスロットの値が含まれることもある\n",
    "    for slot_user_utterance in user_utterance:\n",
    "\n",
    "        # スロット名とスロット値を取得\n",
    "        input_slot_name = slot_user_utterance['slot_name']\n",
    "        input_slot_value = slot_user_utterance['slot_value']\n",
    "        \n",
    "        # フレームの状態を更新\n",
    "        current_frame[input_slot_name] = input_slot_value\n",
    "\n",
    "    system_utterance = \"\"\n",
    "    \n",
    "    # 現在のフレームの状態から制約が\"mandatory\"で不足しているものを探索\n",
    "    mandatory_need = False\n",
    "    for slot in frame:\n",
    "        \n",
    "        slot_name = slot[0]\n",
    "        slot_condition = slot[1]\n",
    "\n",
    "        if slot_condition == 'mandatory' and slot_name not in current_frame:\n",
    "            system_utterance = utterances[slot_name]\n",
    "            mandatory_need = True\n",
    "            break\n",
    "    \n",
    "    # すべての\"mandatory\"の要素が埋まっていたら終了\n",
    "    if mandatory_need == False:\n",
    "        \n",
    "        # システムの発話を生成\n",
    "        system_utterance = gen_utterance_last(current_frame)\n",
    "\n",
    "        current_frame_filled = True\n",
    "    \n",
    "    return system_utterance\n",
    "\n",
    "# 初期状態にリセットする\n",
    "def reset():\n",
    "    global current_frame, current_frame_filled\n",
    "    current_frame = {}\n",
    "    current_frame_filled = False"
   ]
  },
  {
   "cell_type": "markdown",
   "metadata": {},
   "source": [
    "## 対話管理のテスト\n",
    "実装した対話管理をテストしてみます。"
   ]
  },
  {
   "cell_type": "code",
   "execution_count": 5,
   "metadata": {
    "tags": []
   },
   "outputs": [
    {
     "name": "stdout",
     "output_type": "stream",
     "text": [
      "システム発話(0)\n",
      "こんにちは。京都レストラン案内です。ご質問をどうぞ。\n"
     ]
    }
   ],
   "source": [
    "# フレーム状態をリセット\n",
    "reset()\n",
    "\n",
    "# 初期状態の発話を表示\n",
    "print(\"システム発話(0)\")\n",
    "print(utterance_start)"
   ]
  },
  {
   "cell_type": "code",
   "execution_count": 6,
   "metadata": {
    "tags": []
   },
   "outputs": [
    {
     "name": "stdout",
     "output_type": "stream",
     "text": [
      "ユーザ発話 (1)\n",
      "[{'slot_name': 'place', 'slot_value': '京都駅周辺'}]\n",
      "\n",
      "システム発話 (1)\n",
      "ジャンルを指定してください\n"
     ]
    }
   ],
   "source": [
    "# ユーザ発話(1)を設定\n",
    "user_utterance = [{'slot_name': 'place', 'slot_value': '京都駅周辺'}]\n",
    "print('ユーザ発話 (1)')\n",
    "print(user_utterance)\n",
    "print()\n",
    "\n",
    "# 次のシステム発話を表示\n",
    "print('システム発話 (1)')\n",
    "print(enter(user_utterance))"
   ]
  },
  {
   "cell_type": "code",
   "execution_count": 7,
   "metadata": {
    "tags": []
   },
   "outputs": [
    {
     "name": "stdout",
     "output_type": "stream",
     "text": [
      "ユーザ発話 (2)\n",
      "[{'slot_name': 'genre', 'slot_value': '和食'}]\n",
      "\n",
      "システム発話 (2)\n",
      "地域は京都駅周辺で、ジャンルは和食ですね。検索します。\n",
      "フレームは全て埋まりました\n"
     ]
    }
   ],
   "source": [
    "# ユーザ発話(2)を設定\n",
    "user_utterance = [{'slot_name': 'genre', 'slot_value': '和食'}]\n",
    "print('ユーザ発話 (2)')\n",
    "print(user_utterance)\n",
    "print()\n",
    "\n",
    "# 次のシステム発話を表示\n",
    "print('システム発話 (2)')\n",
    "print(enter(user_utterance))\n",
    "\n",
    "if current_frame_filled:\n",
    "    print('フレームは全て埋まりました')"
   ]
  },
  {
   "cell_type": "markdown",
   "metadata": {},
   "source": [
    "別のパターンをテストしてみます。今度は\"optional\"の項目である予算について言及します。"
   ]
  },
  {
   "cell_type": "code",
   "execution_count": 8,
   "metadata": {
    "tags": []
   },
   "outputs": [
    {
     "name": "stdout",
     "output_type": "stream",
     "text": [
      "システム発話 (0)\n",
      "こんにちは。京都レストラン案内です。ご質問をどうぞ。\n",
      "\n",
      "ユーザ発話 (1)\n",
      "[{'slot_name': 'place', 'slot_value': '京都駅周辺'}, {'slot_name': 'budget', 'slot_value': '5000円'}]\n",
      "\n",
      "システム発話 (1)\n",
      "ジャンルを指定してください\n"
     ]
    }
   ],
   "source": [
    "# フレーム状態をリセット\n",
    "reset()\n",
    "\n",
    "# 初期状態の発話を表示\n",
    "print(\"システム発話 (0)\")\n",
    "print(utterance_start)\n",
    "print()\n",
    "\n",
    "# ユーザ発話(1)を設定\n",
    "# 場所と予算を同時に言及\n",
    "user_utterance = [{'slot_name': 'place', 'slot_value': '京都駅周辺'}, {'slot_name': 'budget', 'slot_value': '5000円'}]\n",
    "print('ユーザ発話 (1)')\n",
    "print(user_utterance)\n",
    "print()\n",
    "\n",
    "# 次のシステム発話を表示\n",
    "print('システム発話 (1)')\n",
    "print(enter(user_utterance))"
   ]
  },
  {
   "cell_type": "code",
   "execution_count": 9,
   "metadata": {
    "tags": []
   },
   "outputs": [
    {
     "name": "stdout",
     "output_type": "stream",
     "text": [
      "ユーザ発話 (2)\n",
      "[{'slot_name': 'genre', 'slot_value': '和食'}]\n",
      "\n",
      "システム発話(2)\n",
      "地域は京都駅周辺で、ジャンルは和食、予算は5000円ですね。検索します。\n",
      "フレームは全て埋まりました\n"
     ]
    }
   ],
   "source": [
    "# ユーザ発話(2)を設定\n",
    "user_utterance = [{'slot_name': 'genre', 'slot_value': '和食'}]\n",
    "print('ユーザ発話 (2)')\n",
    "print(user_utterance)\n",
    "print()\n",
    "\n",
    "# 次のシステム発話を表示\n",
    "print('システム発話(2)')\n",
    "print(enter(user_utterance))\n",
    "\n",
    "if current_frame_filled:\n",
    "    print('フレームは全て埋まりました')"
   ]
  }
 ],
 "metadata": {
  "kernelspec": {
   "display_name": "Python 3",
   "language": "python",
   "name": "python3"
  },
  "language_info": {
   "codemirror_mode": {
    "name": "ipython",
    "version": 3
   },
   "file_extension": ".py",
   "mimetype": "text/x-python",
   "name": "python",
   "nbconvert_exporter": "python",
   "pygments_lexer": "ipython3",
   "version": "3.8.8"
  }
 },
 "nbformat": 4,
 "nbformat_minor": 2
}
