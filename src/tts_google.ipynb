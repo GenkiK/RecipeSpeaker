{
 "cells": [
  {
   "cell_type": "markdown",
   "metadata": {},
   "source": [
    "# 音声合成のテスト（Google）\n",
    "このプログラムはGoogle Cloud APIの1つであるText-to-Speech APIをpythonプログラムから扱えるようにするものです。\n",
    "\n",
    "- 参考ページ\n",
    "    - GoogleCloud Text-toSpeech\n",
    "    - https://cloud.google.com/text-to-speech\n",
    "    - クイックスタート: クライアント ライブラリの使用\n",
    "    - https://cloud.google.com/text-to-speech/docs/quickstart-client-libraries?hl=ja"
   ]
  },
  {
   "cell_type": "markdown",
   "metadata": {},
   "source": [
    "## 事前の設定\n",
    "- Google Cloud PlatformでGoogle Text-to-Speech APIを有効化\n",
    "- サービスアカウントキーの作成と配置"
   ]
  },
  {
   "cell_type": "code",
   "execution_count": 6,
   "metadata": {},
   "outputs": [],
   "source": [
    "# 必要なラブラリを読み込む\n",
    "import os\n",
    "from google.cloud import texttospeech\n",
    "\n",
    "from pydub import AudioSegment\n",
    "from pydub.playback import play"
   ]
  },
  {
   "cell_type": "code",
   "execution_count": 2,
   "metadata": {},
   "outputs": [],
   "source": [
    "# 認証キーを配置する\n",
    "\n",
    "path_key = './google-credentials.json'\n",
    "os.environ['GOOGLE_APPLICATION_CREDENTIALS'] = path_key"
   ]
  },
  {
   "cell_type": "code",
   "execution_count": 3,
   "metadata": {
    "tags": []
   },
   "outputs": [],
   "source": [
    "# 音声合成のパラメータを設定\n",
    "voice = texttospeech.VoiceSelectionParams(\n",
    "  language_code='ja-JP',\n",
    "  name='ja-JP-Wavenet-A'\n",
    ")\n",
    "\n",
    "# 音声の設定\n",
    "audio_config = texttospeech.AudioConfig(\n",
    "  audio_encoding=texttospeech.AudioEncoding.MP3,\n",
    "  pitch = 0.0\n",
    ")\n",
    "\n",
    "client = texttospeech.TextToSpeechClient()\n"
   ]
  },
  {
   "cell_type": "code",
   "execution_count": 4,
   "metadata": {
    "tags": []
   },
   "outputs": [
    {
     "name": "stdout",
     "output_type": "stream",
     "text": [
      "音声ファイル \"./data/tts-temp.mp3\" を生成しました。\n"
     ]
    }
   ],
   "source": [
    "# 音声合成を行う文章\n",
    "synthesis_input = texttospeech.SynthesisInput(text='京都大学へようこそ。')\n",
    "\n",
    "# 音声合成を実行\n",
    "response = client.synthesize_speech(input=synthesis_input, voice=voice, audio_config=audio_config)\n",
    "\n",
    "# 合成したデータをmp3ファイルとして書き出し\n",
    "with open('./data/tts-temp.mp3', 'wb') as out:\n",
    "    out.write(response.audio_content)\n",
    "    print('音声ファイル \"./data/tts-temp.mp3\" を生成しました。')"
   ]
  },
  {
   "cell_type": "code",
   "execution_count": 7,
   "metadata": {},
   "outputs": [],
   "source": [
    "# 音声を再生\n",
    "audio_data = AudioSegment.from_mp3('./data/tts-temp.mp3')\n",
    "play(audio_data)"
   ]
  }
 ],
 "metadata": {
  "kernelspec": {
   "display_name": "Python 3",
   "language": "python",
   "name": "python3"
  },
  "language_info": {
   "codemirror_mode": {
    "name": "ipython",
    "version": 3
   },
   "file_extension": ".py",
   "mimetype": "text/x-python",
   "name": "python",
   "nbconvert_exporter": "python",
   "pygments_lexer": "ipython3",
   "version": "3.8.8"
  }
 },
 "nbformat": 4,
 "nbformat_minor": 2
}
